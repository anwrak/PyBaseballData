{
 "cells": [
  {
   "cell_type": "code",
   "execution_count": 53,
   "metadata": {},
   "outputs": [],
   "source": [
    "import pandas as pd\n",
    "\n",
    "#get datasets\n",
    "people = pd.read_csv('/Users/Jeff 1/Documents/Baseball Stats/baseball data/People.csv')\n",
    "appearance = pd.read_csv('/Users/Jeff 1/Documents/Baseball Stats/baseball data/Appearances.csv')\n",
    "hall_of_fame = pd.read_csv('/Users/Jeff 1/Documents/Baseball Stats/baseball data/HallOfFame.csv')\n"
   ]
  },
  {
   "cell_type": "code",
   "execution_count": 54,
   "metadata": {},
   "outputs": [
    {
     "ename": "UFuncTypeError",
     "evalue": "ufunc 'add' did not contain a loop with signature matching types (dtype('float64'), dtype('<U1')) -> None",
     "output_type": "error",
     "traceback": [
      "\u001b[0;31m---------------------------------------------------------------------------\u001b[0m",
      "\u001b[0;31mUFuncTypeError\u001b[0m                            Traceback (most recent call last)",
      "\u001b[1;32m/Users/Jeff 1/Documents/Baseball Stats/baseball-stats/player_details.ipynb Cell 2\u001b[0m line \u001b[0;36m1\n\u001b[1;32m     <a href='vscode-notebook-cell:/Users/Jeff%201/Documents/Baseball%20Stats/baseball-stats/player_details.ipynb#W5sZmlsZQ%3D%3D?line=11'>12</a>\u001b[0m player_details\u001b[39m.\u001b[39mloc[:,\u001b[39m'\u001b[39m\u001b[39mbirthMonth\u001b[39m\u001b[39m'\u001b[39m] \u001b[39m=\u001b[39m player_details[\u001b[39m'\u001b[39m\u001b[39mbirthMonth\u001b[39m\u001b[39m'\u001b[39m]\u001b[39m.\u001b[39mapply(\u001b[39mlambda\u001b[39;00m x: x \u001b[39mif\u001b[39;00m x \u001b[39m!=\u001b[39m \u001b[39m'\u001b[39m\u001b[39m'\u001b[39m \u001b[39melse\u001b[39;00m \u001b[39m'\u001b[39m\u001b[39m1\u001b[39m\u001b[39m'\u001b[39m)\n\u001b[1;32m     <a href='vscode-notebook-cell:/Users/Jeff%201/Documents/Baseball%20Stats/baseball-stats/player_details.ipynb#W5sZmlsZQ%3D%3D?line=12'>13</a>\u001b[0m player_details\u001b[39m.\u001b[39mloc[:,\u001b[39m'\u001b[39m\u001b[39mbirthDay\u001b[39m\u001b[39m'\u001b[39m] \u001b[39m=\u001b[39m player_details[\u001b[39m'\u001b[39m\u001b[39mbirthDay\u001b[39m\u001b[39m'\u001b[39m]\u001b[39m.\u001b[39mapply(\u001b[39mlambda\u001b[39;00m x: x \u001b[39mif\u001b[39;00m x \u001b[39m!=\u001b[39m \u001b[39m'\u001b[39m\u001b[39m'\u001b[39m \u001b[39melse\u001b[39;00m \u001b[39m'\u001b[39m\u001b[39m1\u001b[39m\u001b[39m'\u001b[39m)\n\u001b[0;32m---> <a href='vscode-notebook-cell:/Users/Jeff%201/Documents/Baseball%20Stats/baseball-stats/player_details.ipynb#W5sZmlsZQ%3D%3D?line=13'>14</a>\u001b[0m player_details[\u001b[39m'\u001b[39m\u001b[39mbirthDate\u001b[39m\u001b[39m'\u001b[39m] \u001b[39m=\u001b[39m player_details[\u001b[39m'\u001b[39;49m\u001b[39mbirthYear\u001b[39;49m\u001b[39m'\u001b[39;49m] \u001b[39m+\u001b[39;49m \u001b[39m'\u001b[39;49m\u001b[39m-\u001b[39;49m\u001b[39m'\u001b[39;49m \u001b[39m+\u001b[39m player_details[\u001b[39m'\u001b[39m\u001b[39mbirthMonth\u001b[39m\u001b[39m'\u001b[39m] \u001b[39m+\u001b[39m \u001b[39m'\u001b[39m\u001b[39m-\u001b[39m\u001b[39m'\u001b[39m \u001b[39m+\u001b[39m player_details[\u001b[39m'\u001b[39m\u001b[39mbirthDay\u001b[39m\u001b[39m'\u001b[39m]\n",
      "File \u001b[0;32m~/Documents/Baseball Stats/baseball-stats/.venv/lib/python3.8/site-packages/pandas/core/ops/common.py:81\u001b[0m, in \u001b[0;36m_unpack_zerodim_and_defer.<locals>.new_method\u001b[0;34m(self, other)\u001b[0m\n\u001b[1;32m     77\u001b[0m             \u001b[39mreturn\u001b[39;00m \u001b[39mNotImplemented\u001b[39m\n\u001b[1;32m     79\u001b[0m other \u001b[39m=\u001b[39m item_from_zerodim(other)\n\u001b[0;32m---> 81\u001b[0m \u001b[39mreturn\u001b[39;00m method(\u001b[39mself\u001b[39;49m, other)\n",
      "File \u001b[0;32m~/Documents/Baseball Stats/baseball-stats/.venv/lib/python3.8/site-packages/pandas/core/arraylike.py:186\u001b[0m, in \u001b[0;36mOpsMixin.__add__\u001b[0;34m(self, other)\u001b[0m\n\u001b[1;32m     98\u001b[0m \u001b[39m@unpack_zerodim_and_defer\u001b[39m(\u001b[39m\"\u001b[39m\u001b[39m__add__\u001b[39m\u001b[39m\"\u001b[39m)\n\u001b[1;32m     99\u001b[0m \u001b[39mdef\u001b[39;00m \u001b[39m__add__\u001b[39m(\u001b[39mself\u001b[39m, other):\n\u001b[1;32m    100\u001b[0m \u001b[39m    \u001b[39m\u001b[39m\"\"\"\u001b[39;00m\n\u001b[1;32m    101\u001b[0m \u001b[39m    Get Addition of DataFrame and other, column-wise.\u001b[39;00m\n\u001b[1;32m    102\u001b[0m \n\u001b[0;32m   (...)\u001b[0m\n\u001b[1;32m    184\u001b[0m \u001b[39m    moose     3.0     NaN\u001b[39;00m\n\u001b[1;32m    185\u001b[0m \u001b[39m    \"\"\"\u001b[39;00m\n\u001b[0;32m--> 186\u001b[0m     \u001b[39mreturn\u001b[39;00m \u001b[39mself\u001b[39;49m\u001b[39m.\u001b[39;49m_arith_method(other, operator\u001b[39m.\u001b[39;49madd)\n",
      "File \u001b[0;32m~/Documents/Baseball Stats/baseball-stats/.venv/lib/python3.8/site-packages/pandas/core/series.py:6112\u001b[0m, in \u001b[0;36mSeries._arith_method\u001b[0;34m(self, other, op)\u001b[0m\n\u001b[1;32m   6110\u001b[0m \u001b[39mdef\u001b[39;00m \u001b[39m_arith_method\u001b[39m(\u001b[39mself\u001b[39m, other, op):\n\u001b[1;32m   6111\u001b[0m     \u001b[39mself\u001b[39m, other \u001b[39m=\u001b[39m ops\u001b[39m.\u001b[39malign_method_SERIES(\u001b[39mself\u001b[39m, other)\n\u001b[0;32m-> 6112\u001b[0m     \u001b[39mreturn\u001b[39;00m base\u001b[39m.\u001b[39;49mIndexOpsMixin\u001b[39m.\u001b[39;49m_arith_method(\u001b[39mself\u001b[39;49m, other, op)\n",
      "File \u001b[0;32m~/Documents/Baseball Stats/baseball-stats/.venv/lib/python3.8/site-packages/pandas/core/base.py:1348\u001b[0m, in \u001b[0;36mIndexOpsMixin._arith_method\u001b[0;34m(self, other, op)\u001b[0m\n\u001b[1;32m   1345\u001b[0m rvalues \u001b[39m=\u001b[39m ensure_wrapped_if_datetimelike(rvalues)\n\u001b[1;32m   1347\u001b[0m \u001b[39mwith\u001b[39;00m np\u001b[39m.\u001b[39merrstate(\u001b[39mall\u001b[39m\u001b[39m=\u001b[39m\u001b[39m\"\u001b[39m\u001b[39mignore\u001b[39m\u001b[39m\"\u001b[39m):\n\u001b[0;32m-> 1348\u001b[0m     result \u001b[39m=\u001b[39m ops\u001b[39m.\u001b[39;49marithmetic_op(lvalues, rvalues, op)\n\u001b[1;32m   1350\u001b[0m \u001b[39mreturn\u001b[39;00m \u001b[39mself\u001b[39m\u001b[39m.\u001b[39m_construct_result(result, name\u001b[39m=\u001b[39mres_name)\n",
      "File \u001b[0;32m~/Documents/Baseball Stats/baseball-stats/.venv/lib/python3.8/site-packages/pandas/core/ops/array_ops.py:232\u001b[0m, in \u001b[0;36marithmetic_op\u001b[0;34m(left, right, op)\u001b[0m\n\u001b[1;32m    228\u001b[0m     _bool_arith_check(op, left, right)\n\u001b[1;32m    230\u001b[0m     \u001b[39m# error: Argument 1 to \"_na_arithmetic_op\" has incompatible type\u001b[39;00m\n\u001b[1;32m    231\u001b[0m     \u001b[39m# \"Union[ExtensionArray, ndarray[Any, Any]]\"; expected \"ndarray[Any, Any]\"\u001b[39;00m\n\u001b[0;32m--> 232\u001b[0m     res_values \u001b[39m=\u001b[39m _na_arithmetic_op(left, right, op)  \u001b[39m# type: ignore[arg-type]\u001b[39;00m\n\u001b[1;32m    234\u001b[0m \u001b[39mreturn\u001b[39;00m res_values\n",
      "File \u001b[0;32m~/Documents/Baseball Stats/baseball-stats/.venv/lib/python3.8/site-packages/pandas/core/ops/array_ops.py:171\u001b[0m, in \u001b[0;36m_na_arithmetic_op\u001b[0;34m(left, right, op, is_cmp)\u001b[0m\n\u001b[1;32m    168\u001b[0m     func \u001b[39m=\u001b[39m partial(expressions\u001b[39m.\u001b[39mevaluate, op)\n\u001b[1;32m    170\u001b[0m \u001b[39mtry\u001b[39;00m:\n\u001b[0;32m--> 171\u001b[0m     result \u001b[39m=\u001b[39m func(left, right)\n\u001b[1;32m    172\u001b[0m \u001b[39mexcept\u001b[39;00m \u001b[39mTypeError\u001b[39;00m:\n\u001b[1;32m    173\u001b[0m     \u001b[39mif\u001b[39;00m \u001b[39mnot\u001b[39;00m is_cmp \u001b[39mand\u001b[39;00m (is_object_dtype(left\u001b[39m.\u001b[39mdtype) \u001b[39mor\u001b[39;00m is_object_dtype(right)):\n\u001b[1;32m    174\u001b[0m         \u001b[39m# For object dtype, fallback to a masked operation (only operating\u001b[39;00m\n\u001b[1;32m    175\u001b[0m         \u001b[39m#  on the non-missing values)\u001b[39;00m\n\u001b[1;32m    176\u001b[0m         \u001b[39m# Don't do this for comparisons, as that will handle complex numbers\u001b[39;00m\n\u001b[1;32m    177\u001b[0m         \u001b[39m#  incorrectly, see GH#32047\u001b[39;00m\n",
      "\u001b[0;31mUFuncTypeError\u001b[0m: ufunc 'add' did not contain a loop with signature matching types (dtype('float64'), dtype('<U1')) -> None"
     ]
    }
   ],
   "source": [
    "player_details = people[~people['playerID'].str.endswith('99')].\\\n",
    "    drop(['deathYear', 'deathMonth', 'deathDay', 'deathCountry', 'deathCity', 'deathState'], axis=1)\n",
    "#fix player birth location fuckery\n",
    "player_details.loc[:,'birthCountry'] = player_details['birthCountry'].apply(lambda x: x if x != '' else 'Unknown')\n",
    "player_details.loc[:,'birthState'] = player_details['birthState'].apply(lambda x: x if x != '' else 'Unknown')\n",
    "player_details.loc[:,'birthCity'] = player_details['birthCity'].apply(lambda x: x if x != '' else 'Unknown')\n",
    "player_details.loc[:,'birthCity'] = player_details['birthCity'] + ', ' + player_details['birthState'] \n",
    "#fix player name fuckery\n",
    "player_details.loc[:,'nameFirst'] = player_details['nameFirst'].apply(lambda x: x if x != '' else 'None Given')\n",
    "#fix player birth date fuckery\n",
    "player_details.loc[:,'birthYear'] = player_details['birthYear'].apply(lambda x: x if x != '' else '1820')\n",
    "player_details.loc[:,'birthMonth'] = player_details['birthMonth'].apply(lambda x: x if x != '' else '1')\n",
    "player_details.loc[:,'birthDay'] = player_details['birthDay'].apply(lambda x: x if x != '' else '1')\n",
    "player_details['birthDate'] = player_details['birthYear'] + '-' + player_details['birthMonth'] + '-' + player_details['birthDay']\n",
    "\n",
    "\n",
    "\n"
   ]
  },
  {
   "cell_type": "code",
   "execution_count": 35,
   "metadata": {},
   "outputs": [],
   "source": [
    "#determine hof status\n",
    "hof = hall_of_fame[(hall_of_fame['inducted'] == 'Y') | (hall_of_fame['inducted'] == 'y')][['playerID', 'inducted']]"
   ]
  },
  {
   "cell_type": "code",
   "execution_count": 28,
   "metadata": {},
   "outputs": [],
   "source": [
    "#determine player primary position\n",
    "def position(x):\n",
    "    \n",
    "    if (x.p1 == 'G_p'):\n",
    "        \n",
    "        if x.G_p == 0:\n",
    "            p = 'PH'\n",
    "        \n",
    "        elif x.GS/x.G_p < .25:\n",
    "            p = 'RP'\n",
    "        \n",
    "        else:\n",
    "            p = 'SP'\n",
    "    \n",
    "    else: \n",
    "        p = x['p1'].replace('G_', '').upper()\n",
    "    \n",
    "    return p\n",
    "  \n",
    "app_agg = appearance.drop(['yearID', 'teamID', 'lgID', 'G_all', 'G_batting', 'G_defense'], axis=1).groupby(['playerID']).sum()\n",
    "app_agg['p1'] = app_agg.drop(['GS'], axis=1).idxmax(axis=1)\n",
    "app_agg['position'] = app_agg.apply(position, axis=1)\n"
   ]
  },
  {
   "cell_type": "code",
   "execution_count": null,
   "metadata": {},
   "outputs": [],
   "source": []
  },
  {
   "cell_type": "code",
   "execution_count": null,
   "metadata": {},
   "outputs": [],
   "source": [
    "#bring them all together\n",
    "\n",
    "output = "
   ]
  }
 ],
 "metadata": {
  "kernelspec": {
   "display_name": ".venv",
   "language": "python",
   "name": "python3"
  },
  "language_info": {
   "codemirror_mode": {
    "name": "ipython",
    "version": 3
   },
   "file_extension": ".py",
   "mimetype": "text/x-python",
   "name": "python",
   "nbconvert_exporter": "python",
   "pygments_lexer": "ipython3",
   "version": "3.8.2"
  }
 },
 "nbformat": 4,
 "nbformat_minor": 2
}
