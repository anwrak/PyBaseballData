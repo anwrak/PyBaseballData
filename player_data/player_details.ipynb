{
 "cells": [
  {
   "cell_type": "code",
   "execution_count": 144,
   "metadata": {},
   "outputs": [],
   "source": [
    "import pandas as pd\n",
    "import numpy as np\n",
    "\n",
    "#get datasets\n",
    "people = pd.read_csv('../../baseball data/core/People.csv')\n",
    "appearance = pd.read_csv('../../baseball data/core/Appearances.csv')\n",
    "hall_of_fame = pd.read_csv('../../baseball data/contrib/HallOfFame.csv')\n",
    "batting = pd.read_csv('../../baseball data/core/Batting.csv')\n",
    "pitching = pd.read_csv('../../baseball data/core/Pitching.csv')\n",
    "fielding = pd.read_csv('../../baseball data/core/Fielding.csv')\n",
    "teams = pd.read_csv('../../baseball data/core/Teams.csv')\n",
    "salary = pd.read_csv('../../baseball data/contrib/Salaries.csv')\n",
    "juniors = pd.read_csv('../../baseball data/custom/juniors.csv')"
   ]
  },
  {
   "cell_type": "code",
   "execution_count": 147,
   "metadata": {},
   "outputs": [
    {
     "name": "stdout",
     "output_type": "stream",
     "text": [
      "<class 'pandas.core.frame.DataFrame'>\n",
      "RangeIndex: 20471 entries, 0 to 20470\n",
      "Data columns (total 19 columns):\n",
      " #   Column        Non-Null Count  Dtype  \n",
      "---  ------        --------------  -----  \n",
      " 0   playerID      20471 non-null  object \n",
      " 1   birthYear     20363 non-null  float64\n",
      " 2   birthMonth    20196 non-null  float64\n",
      " 3   birthDay      20058 non-null  float64\n",
      " 4   birthCountry  20414 non-null  object \n",
      " 5   birthState    19938 non-null  object \n",
      " 6   birthCity     20309 non-null  object \n",
      " 7   nameFirst     20434 non-null  object \n",
      " 8   nameLast      20471 non-null  object \n",
      " 9   nameGiven     20434 non-null  object \n",
      " 10  weight        19757 non-null  float64\n",
      " 11  height        19837 non-null  float64\n",
      " 12  bats          19403 non-null  object \n",
      " 13  throws        19603 non-null  object \n",
      " 14  debut         20463 non-null  object \n",
      " 15  finalGame     20463 non-null  object \n",
      " 16  retroID       20471 non-null  object \n",
      " 17  bbrefID       20470 non-null  object \n",
      " 18  junior        42 non-null     object \n",
      "dtypes: float64(5), object(14)\n",
      "memory usage: 3.0+ MB\n",
      "None\n"
     ]
    },
    {
     "ename": "KeyError",
     "evalue": "'junior'",
     "output_type": "error",
     "traceback": [
      "\u001b[0;31m---------------------------------------------------------------------------\u001b[0m",
      "\u001b[0;31mKeyError\u001b[0m                                  Traceback (most recent call last)",
      "\u001b[1;32m/Users/Jeff 1/Documents/Baseball Stats/PyBaseballData/player_data/player_details.ipynb Cell 2\u001b[0m line \u001b[0;36m1\n\u001b[1;32m     <a href='vscode-notebook-cell:/Users/Jeff%201/Documents/Baseball%20Stats/PyBaseballData/player_data/player_details.ipynb#W1sZmlsZQ%3D%3D?line=13'>14</a>\u001b[0m \u001b[39m#add jr to the juniors last name\u001b[39;00m\n\u001b[1;32m     <a href='vscode-notebook-cell:/Users/Jeff%201/Documents/Baseball%20Stats/PyBaseballData/player_data/player_details.ipynb#W1sZmlsZQ%3D%3D?line=14'>15</a>\u001b[0m pd_df[\u001b[39m'\u001b[39m\u001b[39mjunior\u001b[39m\u001b[39m'\u001b[39m]\u001b[39m.\u001b[39mfillna(\u001b[39m'\u001b[39m\u001b[39mN\u001b[39m\u001b[39m'\u001b[39m, inplace\u001b[39m=\u001b[39m\u001b[39mTrue\u001b[39;00m)\n\u001b[0;32m---> <a href='vscode-notebook-cell:/Users/Jeff%201/Documents/Baseball%20Stats/PyBaseballData/player_data/player_details.ipynb#W1sZmlsZQ%3D%3D?line=15'>16</a>\u001b[0m pd_df\u001b[39m.\u001b[39mloc[:,\u001b[39m'\u001b[39m\u001b[39mnameLast\u001b[39m\u001b[39m'\u001b[39m]  \u001b[39m=\u001b[39m pd_df[[\u001b[39m'\u001b[39m\u001b[39mnameLast\u001b[39m\u001b[39m'\u001b[39m, \u001b[39m'\u001b[39m\u001b[39mjunior\u001b[39m\u001b[39m'\u001b[39m]]\u001b[39m.\u001b[39mapply(\u001b[39mlambda\u001b[39;00m x: x[\u001b[39m'\u001b[39m\u001b[39mnameLast\u001b[39m\u001b[39m'\u001b[39m] \u001b[39mif\u001b[39;00m x[\u001b[39m'\u001b[39m\u001b[39mjunior\u001b[39m\u001b[39m'\u001b[39m] \u001b[39m!=\u001b[39m \u001b[39m'\u001b[39m\u001b[39mY\u001b[39m\u001b[39m'\u001b[39m \u001b[39melse\u001b[39;00m \u001b[39m+\u001b[39m x[\u001b[39m'\u001b[39m\u001b[39mnameLast\u001b[39m\u001b[39m'\u001b[39m]\u001b[39m+\u001b[39m\u001b[39m'\u001b[39m\u001b[39m Jr.\u001b[39m\u001b[39m'\u001b[39m)\n\u001b[1;32m     <a href='vscode-notebook-cell:/Users/Jeff%201/Documents/Baseball%20Stats/PyBaseballData/player_data/player_details.ipynb#W1sZmlsZQ%3D%3D?line=17'>18</a>\u001b[0m \u001b[39m#fix player name fuckery\u001b[39;00m\n\u001b[1;32m     <a href='vscode-notebook-cell:/Users/Jeff%201/Documents/Baseball%20Stats/PyBaseballData/player_data/player_details.ipynb#W1sZmlsZQ%3D%3D?line=18'>19</a>\u001b[0m pd_df\u001b[39m.\u001b[39mloc[:,\u001b[39m'\u001b[39m\u001b[39mnameFirst\u001b[39m\u001b[39m'\u001b[39m] \u001b[39m=\u001b[39m pd_df[\u001b[39m'\u001b[39m\u001b[39mnameFirst\u001b[39m\u001b[39m'\u001b[39m]\u001b[39m.\u001b[39mapply(\u001b[39mlambda\u001b[39;00m x: x \u001b[39mif\u001b[39;00m x \u001b[39m!=\u001b[39m \u001b[39m'\u001b[39m\u001b[39m'\u001b[39m \u001b[39melse\u001b[39;00m \u001b[39m'\u001b[39m\u001b[39mNone Given\u001b[39m\u001b[39m'\u001b[39m)\n",
      "File \u001b[0;32m/Applications/conda/miniconda3/envs/baseball/lib/python3.11/site-packages/pandas/core/frame.py:10037\u001b[0m, in \u001b[0;36mDataFrame.apply\u001b[0;34m(self, func, axis, raw, result_type, args, by_row, **kwargs)\u001b[0m\n\u001b[1;32m  10025\u001b[0m \u001b[39mfrom\u001b[39;00m \u001b[39mpandas\u001b[39;00m\u001b[39m.\u001b[39;00m\u001b[39mcore\u001b[39;00m\u001b[39m.\u001b[39;00m\u001b[39mapply\u001b[39;00m \u001b[39mimport\u001b[39;00m frame_apply\n\u001b[1;32m  10027\u001b[0m op \u001b[39m=\u001b[39m frame_apply(\n\u001b[1;32m  10028\u001b[0m     \u001b[39mself\u001b[39m,\n\u001b[1;32m  10029\u001b[0m     func\u001b[39m=\u001b[39mfunc,\n\u001b[0;32m   (...)\u001b[0m\n\u001b[1;32m  10035\u001b[0m     kwargs\u001b[39m=\u001b[39mkwargs,\n\u001b[1;32m  10036\u001b[0m )\n\u001b[0;32m> 10037\u001b[0m \u001b[39mreturn\u001b[39;00m op\u001b[39m.\u001b[39mapply()\u001b[39m.\u001b[39m__finalize__(\u001b[39mself\u001b[39m, method\u001b[39m=\u001b[39m\u001b[39m\"\u001b[39m\u001b[39mapply\u001b[39m\u001b[39m\"\u001b[39m)\n",
      "File \u001b[0;32m/Applications/conda/miniconda3/envs/baseball/lib/python3.11/site-packages/pandas/core/apply.py:837\u001b[0m, in \u001b[0;36mFrameApply.apply\u001b[0;34m(self)\u001b[0m\n\u001b[1;32m    834\u001b[0m \u001b[39melif\u001b[39;00m \u001b[39mself\u001b[39m\u001b[39m.\u001b[39mraw:\n\u001b[1;32m    835\u001b[0m     \u001b[39mreturn\u001b[39;00m \u001b[39mself\u001b[39m\u001b[39m.\u001b[39mapply_raw()\n\u001b[0;32m--> 837\u001b[0m \u001b[39mreturn\u001b[39;00m \u001b[39mself\u001b[39m\u001b[39m.\u001b[39mapply_standard()\n",
      "File \u001b[0;32m/Applications/conda/miniconda3/envs/baseball/lib/python3.11/site-packages/pandas/core/apply.py:963\u001b[0m, in \u001b[0;36mFrameApply.apply_standard\u001b[0;34m(self)\u001b[0m\n\u001b[1;32m    962\u001b[0m \u001b[39mdef\u001b[39;00m \u001b[39mapply_standard\u001b[39m(\u001b[39mself\u001b[39m):\n\u001b[0;32m--> 963\u001b[0m     results, res_index \u001b[39m=\u001b[39m \u001b[39mself\u001b[39m\u001b[39m.\u001b[39mapply_series_generator()\n\u001b[1;32m    965\u001b[0m     \u001b[39m# wrap results\u001b[39;00m\n\u001b[1;32m    966\u001b[0m     \u001b[39mreturn\u001b[39;00m \u001b[39mself\u001b[39m\u001b[39m.\u001b[39mwrap_results(results, res_index)\n",
      "File \u001b[0;32m/Applications/conda/miniconda3/envs/baseball/lib/python3.11/site-packages/pandas/core/apply.py:979\u001b[0m, in \u001b[0;36mFrameApply.apply_series_generator\u001b[0;34m(self)\u001b[0m\n\u001b[1;32m    976\u001b[0m \u001b[39mwith\u001b[39;00m option_context(\u001b[39m\"\u001b[39m\u001b[39mmode.chained_assignment\u001b[39m\u001b[39m\"\u001b[39m, \u001b[39mNone\u001b[39;00m):\n\u001b[1;32m    977\u001b[0m     \u001b[39mfor\u001b[39;00m i, v \u001b[39min\u001b[39;00m \u001b[39menumerate\u001b[39m(series_gen):\n\u001b[1;32m    978\u001b[0m         \u001b[39m# ignore SettingWithCopy here in case the user mutates\u001b[39;00m\n\u001b[0;32m--> 979\u001b[0m         results[i] \u001b[39m=\u001b[39m \u001b[39mself\u001b[39m\u001b[39m.\u001b[39mfunc(v, \u001b[39m*\u001b[39m\u001b[39mself\u001b[39m\u001b[39m.\u001b[39margs, \u001b[39m*\u001b[39m\u001b[39m*\u001b[39m\u001b[39mself\u001b[39m\u001b[39m.\u001b[39mkwargs)\n\u001b[1;32m    980\u001b[0m         \u001b[39mif\u001b[39;00m \u001b[39misinstance\u001b[39m(results[i], ABCSeries):\n\u001b[1;32m    981\u001b[0m             \u001b[39m# If we have a view on v, we need to make a copy because\u001b[39;00m\n\u001b[1;32m    982\u001b[0m             \u001b[39m#  series_generator will swap out the underlying data\u001b[39;00m\n\u001b[1;32m    983\u001b[0m             results[i] \u001b[39m=\u001b[39m results[i]\u001b[39m.\u001b[39mcopy(deep\u001b[39m=\u001b[39m\u001b[39mFalse\u001b[39;00m)\n",
      "\u001b[1;32m/Users/Jeff 1/Documents/Baseball Stats/PyBaseballData/player_data/player_details.ipynb Cell 2\u001b[0m line \u001b[0;36m1\n\u001b[1;32m     <a href='vscode-notebook-cell:/Users/Jeff%201/Documents/Baseball%20Stats/PyBaseballData/player_data/player_details.ipynb#W1sZmlsZQ%3D%3D?line=13'>14</a>\u001b[0m \u001b[39m#add jr to the juniors last name\u001b[39;00m\n\u001b[1;32m     <a href='vscode-notebook-cell:/Users/Jeff%201/Documents/Baseball%20Stats/PyBaseballData/player_data/player_details.ipynb#W1sZmlsZQ%3D%3D?line=14'>15</a>\u001b[0m pd_df[\u001b[39m'\u001b[39m\u001b[39mjunior\u001b[39m\u001b[39m'\u001b[39m]\u001b[39m.\u001b[39mfillna(\u001b[39m'\u001b[39m\u001b[39mN\u001b[39m\u001b[39m'\u001b[39m, inplace\u001b[39m=\u001b[39m\u001b[39mTrue\u001b[39;00m)\n\u001b[0;32m---> <a href='vscode-notebook-cell:/Users/Jeff%201/Documents/Baseball%20Stats/PyBaseballData/player_data/player_details.ipynb#W1sZmlsZQ%3D%3D?line=15'>16</a>\u001b[0m pd_df\u001b[39m.\u001b[39mloc[:,\u001b[39m'\u001b[39m\u001b[39mnameLast\u001b[39m\u001b[39m'\u001b[39m]  \u001b[39m=\u001b[39m pd_df[[\u001b[39m'\u001b[39m\u001b[39mnameLast\u001b[39m\u001b[39m'\u001b[39m, \u001b[39m'\u001b[39m\u001b[39mjunior\u001b[39m\u001b[39m'\u001b[39m]]\u001b[39m.\u001b[39mapply(\u001b[39mlambda\u001b[39;00m x: x[\u001b[39m'\u001b[39m\u001b[39mnameLast\u001b[39m\u001b[39m'\u001b[39m] \u001b[39mif\u001b[39;00m x[\u001b[39m'\u001b[39m\u001b[39mjunior\u001b[39m\u001b[39m'\u001b[39m] \u001b[39m!=\u001b[39m \u001b[39m'\u001b[39m\u001b[39mY\u001b[39m\u001b[39m'\u001b[39m \u001b[39melse\u001b[39;00m \u001b[39m+\u001b[39m x[\u001b[39m'\u001b[39m\u001b[39mnameLast\u001b[39m\u001b[39m'\u001b[39m]\u001b[39m+\u001b[39m\u001b[39m'\u001b[39m\u001b[39m Jr.\u001b[39m\u001b[39m'\u001b[39m)\n\u001b[1;32m     <a href='vscode-notebook-cell:/Users/Jeff%201/Documents/Baseball%20Stats/PyBaseballData/player_data/player_details.ipynb#W1sZmlsZQ%3D%3D?line=17'>18</a>\u001b[0m \u001b[39m#fix player name fuckery\u001b[39;00m\n\u001b[1;32m     <a href='vscode-notebook-cell:/Users/Jeff%201/Documents/Baseball%20Stats/PyBaseballData/player_data/player_details.ipynb#W1sZmlsZQ%3D%3D?line=18'>19</a>\u001b[0m pd_df\u001b[39m.\u001b[39mloc[:,\u001b[39m'\u001b[39m\u001b[39mnameFirst\u001b[39m\u001b[39m'\u001b[39m] \u001b[39m=\u001b[39m pd_df[\u001b[39m'\u001b[39m\u001b[39mnameFirst\u001b[39m\u001b[39m'\u001b[39m]\u001b[39m.\u001b[39mapply(\u001b[39mlambda\u001b[39;00m x: x \u001b[39mif\u001b[39;00m x \u001b[39m!=\u001b[39m \u001b[39m'\u001b[39m\u001b[39m'\u001b[39m \u001b[39melse\u001b[39;00m \u001b[39m'\u001b[39m\u001b[39mNone Given\u001b[39m\u001b[39m'\u001b[39m)\n",
      "File \u001b[0;32m/Applications/conda/miniconda3/envs/baseball/lib/python3.11/site-packages/pandas/core/series.py:1040\u001b[0m, in \u001b[0;36mSeries.__getitem__\u001b[0;34m(self, key)\u001b[0m\n\u001b[1;32m   1037\u001b[0m     \u001b[39mreturn\u001b[39;00m \u001b[39mself\u001b[39m\u001b[39m.\u001b[39m_values[key]\n\u001b[1;32m   1039\u001b[0m \u001b[39melif\u001b[39;00m key_is_scalar:\n\u001b[0;32m-> 1040\u001b[0m     \u001b[39mreturn\u001b[39;00m \u001b[39mself\u001b[39m\u001b[39m.\u001b[39m_get_value(key)\n\u001b[1;32m   1042\u001b[0m \u001b[39m# Convert generator to list before going through hashable part\u001b[39;00m\n\u001b[1;32m   1043\u001b[0m \u001b[39m# (We will iterate through the generator there to check for slices)\u001b[39;00m\n\u001b[1;32m   1044\u001b[0m \u001b[39mif\u001b[39;00m is_iterator(key):\n",
      "File \u001b[0;32m/Applications/conda/miniconda3/envs/baseball/lib/python3.11/site-packages/pandas/core/series.py:1156\u001b[0m, in \u001b[0;36mSeries._get_value\u001b[0;34m(self, label, takeable)\u001b[0m\n\u001b[1;32m   1153\u001b[0m     \u001b[39mreturn\u001b[39;00m \u001b[39mself\u001b[39m\u001b[39m.\u001b[39m_values[label]\n\u001b[1;32m   1155\u001b[0m \u001b[39m# Similar to Index.get_value, but we do not fall back to positional\u001b[39;00m\n\u001b[0;32m-> 1156\u001b[0m loc \u001b[39m=\u001b[39m \u001b[39mself\u001b[39m\u001b[39m.\u001b[39mindex\u001b[39m.\u001b[39mget_loc(label)\n\u001b[1;32m   1158\u001b[0m \u001b[39mif\u001b[39;00m is_integer(loc):\n\u001b[1;32m   1159\u001b[0m     \u001b[39mreturn\u001b[39;00m \u001b[39mself\u001b[39m\u001b[39m.\u001b[39m_values[loc]\n",
      "File \u001b[0;32m/Applications/conda/miniconda3/envs/baseball/lib/python3.11/site-packages/pandas/core/indexes/range.py:418\u001b[0m, in \u001b[0;36mRangeIndex.get_loc\u001b[0;34m(self, key)\u001b[0m\n\u001b[1;32m    416\u001b[0m         \u001b[39mraise\u001b[39;00m \u001b[39mKeyError\u001b[39;00m(key) \u001b[39mfrom\u001b[39;00m \u001b[39merr\u001b[39;00m\n\u001b[1;32m    417\u001b[0m \u001b[39mif\u001b[39;00m \u001b[39misinstance\u001b[39m(key, Hashable):\n\u001b[0;32m--> 418\u001b[0m     \u001b[39mraise\u001b[39;00m \u001b[39mKeyError\u001b[39;00m(key)\n\u001b[1;32m    419\u001b[0m \u001b[39mself\u001b[39m\u001b[39m.\u001b[39m_check_indexing_error(key)\n\u001b[1;32m    420\u001b[0m \u001b[39mraise\u001b[39;00m \u001b[39mKeyError\u001b[39;00m(key)\n",
      "\u001b[0;31mKeyError\u001b[0m: 'junior'"
     ]
    }
   ],
   "source": [
    "pd_df = people[~people['playerID'].str.endswith('99')].\\\n",
    "    drop(['deathYear', 'deathMonth', 'deathDay', 'deathCountry', 'deathCity', 'deathState'], axis=1)\n",
    "    \n",
    "pd_df = pd_df.merge(juniors, on='playerID', how='left')\n",
    "\n",
    "print(pd_df.info())\n",
    "\n",
    "#fix player birth location fuckery\n",
    "pd_df.loc[:,'birthCountry'] = pd_df['birthCountry'].apply(lambda x: x if x != '' else 'Unknown')\n",
    "pd_df.loc[:,'birthState'] = pd_df['birthState'].apply(lambda x: x if x != '' else 'Unknown')\n",
    "pd_df.loc[:,'birthCity'] = pd_df['birthCity'].apply(lambda x: x if x != '' else 'Unknown')\n",
    "pd_df.loc[:,'birthCity'] = pd_df['birthCity'] + ', ' + pd_df['birthState'] \n",
    "\n",
    "#add jr to the juniors last name\n",
    "pd_df['junior'].fillna('N', inplace=True)\n",
    "pd_df.loc[:,'nameLast']  = pd_df[['nameLast', 'junior']].apply(lambda x: x['nameLast'] if x['junior'] != 'Y' else + x['nameLast']+' Jr.')\n",
    "\n",
    "#fix player name fuckery\n",
    "pd_df.loc[:,'nameFirst'] = pd_df['nameFirst'].apply(lambda x: x if x != '' else 'None Given')\n",
    "pd_df['fullName'] = pd_df['nameFirst']+' '+pd_df['nameLast']\n",
    "\n",
    "#fix player birth date fuckery\n",
    "pd_df.loc[:,'birthYear'] = pd_df['birthYear'].fillna(0).apply(lambda x: x if x != 0 else 1820)\n",
    "pd_df.loc[:,'birthMonth'] = pd_df['birthMonth'].fillna(0).apply(lambda x: x if x != 0 else 1)\n",
    "pd_df.loc[:,'birthDay'] = pd_df['birthDay'].fillna(0).apply(lambda x: x if x != 0 else 1)\n",
    "pd_df['birthDate'] = pd_df.apply(lambda x: \"{}-{}-{}\".format(int(x['birthYear']), int(x['birthMonth']), int(x['birthDay'])), axis=1)\n",
    "pd_df['birthDate'] = pd.to_datetime(pd_df['birthDate'])\n",
    "\n",
    "#fix missing bat and hit handedness\n",
    "pd_df['bats'].fillna('U', inplace=True)\n",
    "pd_df['throws'].fillna('U', inplace=True)\n",
    "\n",
    "#copy debut to debutDate because that's the way the front end needs it\n",
    "pd_df['debutDate'] = pd_df['debut']\n",
    "\n"
   ]
  },
  {
   "cell_type": "code",
   "execution_count": null,
   "metadata": {},
   "outputs": [],
   "source": [
    "#get player's primary team\n",
    "team_app = appearance[['playerID', 'teamID', 'G_all']].groupby(['playerID', 'teamID'], as_index=False).sum()\n",
    "team_app = team_app.sort_values('G_all', ascending=False).drop_duplicates(['playerID'])"
   ]
  },
  {
   "cell_type": "code",
   "execution_count": null,
   "metadata": {},
   "outputs": [],
   "source": [
    "#determine hof status\n",
    "hof = hall_of_fame[(hall_of_fame['inducted'] == 'Y') | (hall_of_fame['inducted'] == 'y')][['playerID', 'inducted']]"
   ]
  },
  {
   "cell_type": "code",
   "execution_count": null,
   "metadata": {},
   "outputs": [],
   "source": [
    "#determine player primary position\n",
    "def position(x):\n",
    "    \n",
    "    if (x.p1 == 'G_p'):\n",
    "        \n",
    "        if x.G_p == 0:\n",
    "            p = 'PH'\n",
    "        \n",
    "        elif x.GS/x.G_p < .25:\n",
    "            p = 'RP'\n",
    "        \n",
    "        else:\n",
    "            p = 'SP'\n",
    "    \n",
    "    else: \n",
    "        p = x['p1'].replace('G_', '').upper()\n",
    "    \n",
    "    return p\n",
    "  \n",
    "app_agg = appearance.drop(['yearID', 'teamID', 'lgID', 'G_all', 'G_batting', 'G_defense'], axis=1).groupby(['playerID']).sum()\n",
    "app_agg['p1'] = app_agg.drop(['GS'], axis=1).idxmax(axis=1)\n",
    "app_agg['position'] = app_agg.apply(position, axis=1)\n"
   ]
  },
  {
   "cell_type": "code",
   "execution_count": null,
   "metadata": {},
   "outputs": [],
   "source": [
    "p_df = pitching[['playerID', 'IPouts']].groupby('playerID').agg(PIPO = ('IPouts', 'sum'))\n",
    "f_df = fielding[['playerID', 'InnOuts']].groupby('playerID').agg(FIPO = ('InnOuts', 'sum'))\n",
    "\n",
    "b_df = batting[['playerID', 'AB', 'BB', 'HBP', 'SF', 'SH']].groupby('playerID', as_index=False).sum()\n",
    "b_df['PA'] = b_df.drop(['playerID'], axis=1).sum(axis=1)\n",
    "\n",
    "#join to a single dataframe\n",
    "playtime = b_df[['playerID', 'PA']].merge(p_df, how='outer', on='playerID').merge(f_df, how='outer', on='playerID').fillna(0)\n"
   ]
  },
  {
   "cell_type": "code",
   "execution_count": null,
   "metadata": {},
   "outputs": [],
   "source": [
    "#bring them all together\n",
    "\n",
    "player_details = pd_df[['playerID', 'birthCountry', 'birthState', 'birthCity', 'birthDate', 'nameFirst', 'nameLast', 'fullName',\\\n",
    "                        'weight', 'height', 'bats', 'throws', 'debutDate', 'finalGame', 'retroID', 'bbrefID']].\\\n",
    "                        merge(hof, how='left').\\\n",
    "                        merge()"
   ]
  }
 ],
 "metadata": {
  "kernelspec": {
   "display_name": ".venv",
   "language": "python",
   "name": "python3"
  },
  "language_info": {
   "codemirror_mode": {
    "name": "ipython",
    "version": 3
   },
   "file_extension": ".py",
   "mimetype": "text/x-python",
   "name": "python",
   "nbconvert_exporter": "python",
   "pygments_lexer": "ipython3",
   "version": "3.11.5"
  }
 },
 "nbformat": 4,
 "nbformat_minor": 2
}
