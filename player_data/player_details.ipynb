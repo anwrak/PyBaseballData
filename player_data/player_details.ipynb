{
 "cells": [
  {
   "cell_type": "code",
   "execution_count": 92,
   "metadata": {},
   "outputs": [],
   "source": [
    "import pandas as pd\n",
    "import numpy as np\n",
    "\n",
    "#get datasets\n",
    "people = pd.read_csv('../../baseball data/core/People.csv')\n",
    "appearance = pd.read_csv('../../baseball data/core/Appearances.csv')\n",
    "hall_of_fame = pd.read_csv('../../baseball data/contrib/HallOfFame.csv')\n",
    "batting = pd.read_csv('../../baseball data/core/Batting.csv')\n",
    "pitching = pd.read_csv('../../baseball data/core/Pitching.csv')\n",
    "fielding = pd.read_csv('../../baseball data/core/Fielding.csv')\n",
    "teams = pd.read_csv('../../baseball data/core/Teams.csv')\n",
    "salary = pd.read_csv('../../baseball data/contrib/Salaries.csv')"
   ]
  },
  {
   "cell_type": "code",
   "execution_count": 98,
   "metadata": {},
   "outputs": [],
   "source": [
    "pd_df = people[~people['playerID'].str.endswith('99')].\\\n",
    "    drop(['deathYear', 'deathMonth', 'deathDay', 'deathCountry', 'deathCity', 'deathState'], axis=1)\n",
    "\n",
    "#fix player birth location fuckery\n",
    "pd_df.loc[:,'birthCountry'] = pd_df['birthCountry'].apply(lambda x: x if x != '' else 'Unknown')\n",
    "pd_df.loc[:,'birthState'] = pd_df['birthState'].apply(lambda x: x if x != '' else 'Unknown')\n",
    "pd_df.loc[:,'birthCity'] = pd_df['birthCity'].apply(lambda x: x if x != '' else 'Unknown')\n",
    "pd_df.loc[:,'birthCity'] = pd_df['birthCity'] + ', ' + pd_df['birthState'] \n",
    "\n",
    "#fix player name fuckery\n",
    "pd_df.loc[:,'nameFirst'] = pd_df['nameFirst'].apply(lambda x: x if x != '' else 'None Given')\n",
    "pd_df['fullName'] = pd_df['nameFirst']+' '+pd_df['nameLast']\n",
    "\n",
    "#fix player birth date fuckery\n",
    "pd_df.loc[:,'birthYear'] = pd_df['birthYear'].fillna(0).apply(lambda x: x if x != 0 else 1820)\n",
    "pd_df.loc[:,'birthMonth'] = pd_df['birthMonth'].fillna(0).apply(lambda x: x if x != 0 else 1)\n",
    "pd_df.loc[:,'birthDay'] = pd_df['birthDay'].fillna(0).apply(lambda x: x if x != 0 else 1)\n",
    "pd_df['birthDate'] = pd_df.apply(lambda x: \"{}-{}-{}\".format(int(x['birthYear']), int(x['birthMonth']), int(x['birthDay'])), axis=1)\n",
    "pd_df['birthDate'] = pd.to_datetime(pd_df['birthDate'])\n",
    "\n",
    "#fix missing bat and hit handedness\n",
    "pd_df['bats'].fillna('U', inplace=True)\n",
    "pd_df['throws'].fillna('U', inplace=True)\n",
    "#pd_df.loc[:,'throws'] = pd_df['throws'].apply(lambda x: x if x != 'NaN' else 'U')\n",
    "\n",
    "\n",
    "\n",
    "\n",
    "\n"
   ]
  },
  {
   "cell_type": "code",
   "execution_count": 80,
   "metadata": {},
   "outputs": [],
   "source": [
    "#get player's primary team\n",
    "team_app = appearance[['playerID', 'teamID', 'G_all']].groupby(['playerID', 'teamID'], as_index=False).sum()\n",
    "team_app = team_app.sort_values('G_all', ascending=False).drop_duplicates(['playerID'])"
   ]
  },
  {
   "cell_type": "code",
   "execution_count": 12,
   "metadata": {},
   "outputs": [],
   "source": [
    "#determine hof status\n",
    "hof = hall_of_fame[(hall_of_fame['inducted'] == 'Y') | (hall_of_fame['inducted'] == 'y')][['playerID', 'inducted']]"
   ]
  },
  {
   "cell_type": "code",
   "execution_count": 28,
   "metadata": {},
   "outputs": [],
   "source": [
    "#determine player primary position\n",
    "def position(x):\n",
    "    \n",
    "    if (x.p1 == 'G_p'):\n",
    "        \n",
    "        if x.G_p == 0:\n",
    "            p = 'PH'\n",
    "        \n",
    "        elif x.GS/x.G_p < .25:\n",
    "            p = 'RP'\n",
    "        \n",
    "        else:\n",
    "            p = 'SP'\n",
    "    \n",
    "    else: \n",
    "        p = x['p1'].replace('G_', '').upper()\n",
    "    \n",
    "    return p\n",
    "  \n",
    "app_agg = appearance.drop(['yearID', 'teamID', 'lgID', 'G_all', 'G_batting', 'G_defense'], axis=1).groupby(['playerID']).sum()\n",
    "app_agg['p1'] = app_agg.drop(['GS'], axis=1).idxmax(axis=1)\n",
    "app_agg['position'] = app_agg.apply(position, axis=1)\n"
   ]
  },
  {
   "cell_type": "code",
   "execution_count": 67,
   "metadata": {},
   "outputs": [],
   "source": [
    "p_df = pitching[['playerID', 'IPouts']].groupby('playerID').agg(PIPO = ('IPouts', 'sum'))\n",
    "f_df = fielding[['playerID', 'InnOuts']].groupby('playerID').agg(FIPO = ('InnOuts', 'sum'))\n",
    "\n",
    "b_df = batting[['playerID', 'AB', 'BB', 'HBP', 'SF', 'SH']].groupby('playerID', as_index=False).sum()\n",
    "b_df['PA'] = b_df.drop(['playerID'], axis=1).sum(axis=1)\n",
    "\n",
    "#join to a single dataframe\n",
    "playtime = b_df[['playerID', 'PA']].merge(p_df, how='outer', on='playerID').merge(f_df, how='outer', on='playerID').fillna(0)\n"
   ]
  },
  {
   "cell_type": "code",
   "execution_count": 18,
   "metadata": {},
   "outputs": [],
   "source": [
    "#bring them all together\n",
    "\n",
    "player_details = pd_df[['playerID', 'birthCountry', 'birthState', 'birthCity', 'nameFirst', 'nameLast', 'fullName',\\\n",
    "                        'weight', 'height']].merge(hof, how='left')"
   ]
  }
 ],
 "metadata": {
  "kernelspec": {
   "display_name": ".venv",
   "language": "python",
   "name": "python3"
  },
  "language_info": {
   "codemirror_mode": {
    "name": "ipython",
    "version": 3
   },
   "file_extension": ".py",
   "mimetype": "text/x-python",
   "name": "python",
   "nbconvert_exporter": "python",
   "pygments_lexer": "ipython3",
   "version": "3.11.5"
  }
 },
 "nbformat": 4,
 "nbformat_minor": 2
}
