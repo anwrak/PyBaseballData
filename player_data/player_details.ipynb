{
 "cells": [
  {
   "cell_type": "code",
   "execution_count": 157,
   "metadata": {},
   "outputs": [],
   "source": [
    "import pandas as pd\n",
    "import numpy as np\n",
    "\n",
    "#get datasets\n",
    "people = pd.read_csv('../../baseball data/core/People.csv')\n",
    "appearance = pd.read_csv('../../baseball data/core/Appearances.csv')\n",
    "hall_of_fame = pd.read_csv('../../baseball data/contrib/HallOfFame.csv')\n",
    "batting = pd.read_csv('../../baseball data/core/Batting.csv')\n",
    "pitching = pd.read_csv('../../baseball data/core/Pitching.csv')\n",
    "fielding = pd.read_csv('../../baseball data/core/Fielding.csv')\n",
    "teams = pd.read_csv('../../baseball data/core/Teams.csv')\n",
    "salary = pd.read_csv('../../baseball data/contrib/Salaries.csv')\n",
    "\n",
    "juniors = [\"guerrvl02\", \"tatisfe02\", \"penato02\", \"borbope02\", \"cruzjo02\",\\\n",
    "            \"dejesiv02\", \"alomasa02\", \"johnsra02\", \"spraged02\", \"gwynnto02\",\\\n",
    "            \"bruckea02\", \"beamoch02\", \"matthga02\", \"walshed02\", \"leitema02\",\\\n",
    "            \"mcculla02\", \"smithdw02\", \"hairsje02\", \"schuljo05\", \"sullibi04\",\\\n",
    "            \"deshide02\", \"ripkeca01\", \"lombast02\", \"maybejo02\", \"younger03\",\\\n",
    "            \"rosepe02\", \"averiea02\", \"bagbyji02\", \"liebhgl02\", \"troskha02\",\\\n",
    "            \"griffke02\", \"collied02\", \"krausle02\", \"amaroru02\", \"nichoch02\",\\\n",
    "            \"raineti02\", \"rathfr02\", \"stottme02\", \"armasto02\", \"bradlja02\",\\\n",
    "            \"acunaro01\", \"gurrilo01\"]"
   ]
  },
  {
   "cell_type": "code",
   "execution_count": 159,
   "metadata": {},
   "outputs": [],
   "source": [
    "def jr(nm, id):\n",
    "    if id in juniors:\n",
    "        return nm + ' Jr.'\n",
    "    else:\n",
    "        return nm\n",
    "\n",
    "def gen(x):\n",
    "    if 1700 <= x <= 1882:\n",
    "        return 'Pre-Generational'\n",
    "    elif 1883 <= x <= 1900:\n",
    "        return 'Lost Generation'\n",
    "    elif 1901 <= x <= 1927:\n",
    "        return 'Greatest Generation'\n",
    "    elif 1928 <= x <= 1945:\n",
    "        return 'Silent Generation'\n",
    "    elif 1946 <= x <= 1964:\n",
    "        return 'Baby Boomers'\n",
    "    elif 1965 <= x <= 1980:\n",
    "        return 'Gen X'\n",
    "    elif 1981 <= x <= 1996:\n",
    "        return 'Millenial'\n",
    "    elif 1997 <= x <= 2012:\n",
    "        return 'Gen Z'\n",
    "    elif 2013 <= x <= 2025:\n",
    "        return 'Gen Alpha'\n",
    "    else:\n",
    "        return 'Unknown'\n",
    "\n",
    "pd_df = people[~people['playerID'].str.endswith('99')].\\\n",
    "    drop(['deathYear', 'deathMonth', 'deathDay', 'deathCountry', 'deathCity', 'deathState'], axis=1)\n",
    "    \n",
    "#fix player birth location fuckery\n",
    "pd_df.loc[:,'birthCountry'] = pd_df['birthCountry'].apply(lambda x: x if x != '' else 'Unknown')\n",
    "pd_df.loc[:,'birthState'] = pd_df['birthState'].apply(lambda x: x if x != '' else 'Unknown')\n",
    "pd_df.loc[:,'birthCity'] = pd_df['birthCity'].apply(lambda x: x if x != '' else 'Unknown')\n",
    "pd_df.loc[:,'birthCity'] = pd_df['birthCity'] + ', ' + pd_df['birthState'] \n",
    "\n",
    "#add jr to the juniors last name\n",
    "pd_df.loc[:,'nameLast']  = pd_df[['nameLast', 'playerID']].apply(lambda x: jr(x['nameLast'], x['playerID']), axis=1)\n",
    "\n",
    "#fix player name fuckery\n",
    "pd_df.loc[:,'nameFirst'] = pd_df['nameFirst'].apply(lambda x: x if x != '' else 'None Given')\n",
    "pd_df['fullName'] = pd_df['nameFirst']+' '+pd_df['nameLast']\n",
    "\n",
    "#fix player birth date fuckery\n",
    "pd_df.loc[:,'birthYear'] = pd_df['birthYear'].fillna(0).apply(lambda x: x if x != 0 else 1820)\n",
    "pd_df.loc[:,'birthMonth'] = pd_df['birthMonth'].fillna(0).apply(lambda x: x if x != 0 else 1)\n",
    "pd_df.loc[:,'birthDay'] = pd_df['birthDay'].fillna(0).apply(lambda x: x if x != 0 else 1)\n",
    "pd_df['birthDate'] = pd_df.apply(lambda x: \"{}-{}-{}\".format(int(x['birthYear']), int(x['birthMonth']), int(x['birthDay'])), axis=1)\n",
    "pd_df['birthDate'] = pd.to_datetime(pd_df['birthDate'])\n",
    "\n",
    "#determine player generation\n",
    "pd_df['generation'] = pd_df['birthYear'].apply(lambda x: gen(x))\n",
    "\n",
    "#fix missing bat and hit handedness\n",
    "pd_df['bats'].fillna('U', inplace=True)\n",
    "pd_df['throws'].fillna('U', inplace=True)\n",
    "\n",
    "#copy debut to debutDate because that's the way the front end needs it\n",
    "pd_df['debutDate'] = pd_df['debut']\n",
    "\n"
   ]
  },
  {
   "cell_type": "code",
   "execution_count": null,
   "metadata": {},
   "outputs": [],
   "source": [
    "#get player's primary team\n",
    "team_app = appearance[['playerID', 'teamID', 'G_all']].groupby(['playerID', 'teamID'], as_index=False).sum()\n",
    "team_app = team_app.sort_values('G_all', ascending=False).drop_duplicates(['playerID'])"
   ]
  },
  {
   "cell_type": "code",
   "execution_count": null,
   "metadata": {},
   "outputs": [],
   "source": [
    "#determine hof status\n",
    "hof = hall_of_fame[(hall_of_fame['inducted'] == 'Y') | (hall_of_fame['inducted'] == 'y')][['playerID', 'inducted']]"
   ]
  },
  {
   "cell_type": "code",
   "execution_count": null,
   "metadata": {},
   "outputs": [],
   "source": [
    "#determine player primary position\n",
    "def position(x):\n",
    "    \n",
    "    if (x.p1 == 'G_p'):\n",
    "        \n",
    "        if x.G_p == 0:\n",
    "            p = 'PH'\n",
    "        \n",
    "        elif x.GS/x.G_p < .25:\n",
    "            p = 'RP'\n",
    "        \n",
    "        else:\n",
    "            p = 'SP'\n",
    "    \n",
    "    else: \n",
    "        p = x['p1'].replace('G_', '').upper()\n",
    "    \n",
    "    return p\n",
    "  \n",
    "app_agg = appearance.drop(['yearID', 'teamID', 'lgID', 'G_all', 'G_batting', 'G_defense'], axis=1).groupby(['playerID']).sum()\n",
    "app_agg['p1'] = app_agg.drop(['GS'], axis=1).idxmax(axis=1)\n",
    "app_agg['position'] = app_agg.apply(position, axis=1)\n"
   ]
  },
  {
   "cell_type": "code",
   "execution_count": null,
   "metadata": {},
   "outputs": [],
   "source": [
    "p_df = pitching[['playerID', 'IPouts']].groupby('playerID').agg(PIPO = ('IPouts', 'sum'))\n",
    "f_df = fielding[['playerID', 'InnOuts']].groupby('playerID').agg(FIPO = ('InnOuts', 'sum'))\n",
    "\n",
    "b_df = batting[['playerID', 'AB', 'BB', 'HBP', 'SF', 'SH']].groupby('playerID', as_index=False).sum()\n",
    "b_df['PA'] = b_df.drop(['playerID'], axis=1).sum(axis=1)\n",
    "\n",
    "#join to a single dataframe\n",
    "playtime = b_df[['playerID', 'PA']].merge(p_df, how='outer', on='playerID').merge(f_df, how='outer', on='playerID').fillna(0)\n"
   ]
  },
  {
   "cell_type": "code",
   "execution_count": null,
   "metadata": {},
   "outputs": [],
   "source": [
    "#bring them all together\n",
    "\n",
    "player_details = pd_df[['playerID', 'birthCountry', 'birthState', 'birthCity', 'birthDate', 'nameFirst', 'nameLast', 'fullName',\\\n",
    "                        'weight', 'height', 'bats', 'throws', 'debutDate', 'finalGame', 'retroID', 'bbrefID']].\\\n",
    "                        merge(hof, how='left').\\\n",
    "                        merge()"
   ]
  }
 ],
 "metadata": {
  "kernelspec": {
   "display_name": ".venv",
   "language": "python",
   "name": "python3"
  },
  "language_info": {
   "codemirror_mode": {
    "name": "ipython",
    "version": 3
   },
   "file_extension": ".py",
   "mimetype": "text/x-python",
   "name": "python",
   "nbconvert_exporter": "python",
   "pygments_lexer": "ipython3",
   "version": "3.11.5"
  }
 },
 "nbformat": 4,
 "nbformat_minor": 2
}
